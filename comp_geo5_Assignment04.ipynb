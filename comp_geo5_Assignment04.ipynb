{
 "cells": [
  {
   "cell_type": "code",
   "execution_count": 33,
   "metadata": {
    "id": "HACypbJ7E-oX",
    "tags": []
   },
   "outputs": [],
   "source": [
    "from plyfile import PlyData\n",
    "import numpy as np\n",
    "import random\n",
    "import time"
   ]
  },
  {
   "cell_type": "code",
   "execution_count": 34,
   "metadata": {
    "colab": {
     "base_uri": "https://localhost:8080/",
     "height": 448
    },
    "id": "3gxyDKqcEfbH",
    "outputId": "25695ac6-24f5-45d4-8fa9-04611c754e37",
    "tags": []
   },
   "outputs": [
    {
     "name": "stdout",
     "output_type": "stream",
     "text": [
      "-144.83324105145 -230.43891835513 609.45419143394 921.77644843318\n"
     ]
    },
    {
     "data": {
      "image/png": "[encoded data removed]",
      "text/plain": [
       "<Figure size 640x480 with 1 Axes>"
      ]
     },
     "metadata": {},
     "output_type": "display_data"
    }
   ],
   "source": [
    "from matplotlib import pyplot as plt\n",
    "filename = \"points_3.ply\"\n",
    "plyData = PlyData.read(filename)\n",
    "points=plyData[\"vertex\"].data\n",
    "points = [np.array(point.tolist(), dtype=\"float64\") for point in points]\n",
    "x_coords, y_coords = zip(*points)\n",
    "plt.plot(x_coords, y_coords, marker=\"o\", linestyle=\"None\")\n",
    "min_x = min(x_coords)\n",
    "max_x = max(x_coords)\n",
    "min_y = min(y_coords)\n",
    "max_y = max(y_coords)\n",
    "mid_x = (min_x + max_x)/2\n",
    "mid_y = (min_y + max_y)/2\n",
    "print(min_x,min_y,max_x,max_y)"
   ]
  },
  {
   "cell_type": "code",
   "execution_count": 35,
   "metadata": {
    "id": "6EqzCnjYyJ95",
    "tags": []
   },
   "outputs": [],
   "source": [
    "class Point:\n",
    "  def __init__(self, x, y):\n",
    "    self.x = x\n",
    "    self.y = y\n",
    "\n",
    "\n",
    "class Node:\n",
    "  def __init__(self, min_point, max_point, children, parent):\n",
    "    self.children = children\n",
    "    self.min_point = min_point\n",
    "    self.max_point = max_point\n",
    "    self.parent = parent\n",
    "    self.nodes = []\n",
    "\n",
    "  def is_leaf(self):\n",
    "    return len(self.nodes) == 0\n",
    "\n",
    "  def __str__(self):\n",
    "    return str(self.min_point)+\", \" + str(self.max_point)\n",
    "\n",
    "\n",
    "  def split(self, max_leaf_children):\n",
    "    if(len(self.children) <= max_leaf_children):\n",
    "      return\n",
    "\n",
    "    mid_x = (self.min_point[0] + self.max_point[0]) // 2\n",
    "    mid_y = (self.min_point[1] + self.max_point[1]) // 2\n",
    "\n",
    "    ne_points = [(x,y) for (x,y) in self.children if x > mid_x and y > mid_y]\n",
    "    ne_node = Node((mid_x, mid_y),self.max_point, ne_points, self)\n",
    "    ne_node.split(max_leaf_children)\n",
    "\n",
    "    nw_points = [(x,y) for (x,y) in self.children if x <= mid_x and y > mid_y]\n",
    "    nw_node = Node((self.min_point[0], mid_y),(mid_x, self.max_point[1]), nw_points, self)\n",
    "    nw_node.split(max_leaf_children)\n",
    "\n",
    "    se_points = [(x,y) for (x,y) in self.children if x > mid_x and y <= mid_y]\n",
    "    se_node = Node((mid_x, self.min_point[1]),(self.max_point[0], mid_y), se_points, self)\n",
    "    se_node.split(max_leaf_children)\n",
    "\n",
    "    sw_points = [(x,y) for (x,y) in self.children if x <= mid_x and y <= mid_y]\n",
    "    sw_node = Node(self.min_point,(mid_x, mid_y), sw_points, self)\n",
    "    sw_node.split(max_leaf_children)\n",
    "\n",
    "    self.nodes = [[nw_node, ne_node], [sw_node, se_node]]\n"
   ]
  },
  {
   "cell_type": "code",
   "execution_count": 36,
   "metadata": {
    "id": "msnoIIbGykA2",
    "tags": []
   },
   "outputs": [],
   "source": [
    "class QuadTree:\n",
    "  def __init__(self, arr, max_leaf_children=32):\n",
    "    x_coords, y_coords = zip(*arr)\n",
    "\n",
    "    min_x = min(x_coords)\n",
    "    max_x = max(x_coords)\n",
    "    min_y = min(y_coords)\n",
    "    max_y = max(y_coords)\n",
    "\n",
    "\n",
    "    self.root = Node((min_x-1, min_y-1),(max_x+1, max_y+1), arr, None)\n",
    "    self.root.split(max_leaf_children)\n",
    "    self.leaves = self.get_leaves()\n",
    "\n",
    "  def range_lines(self):\n",
    "    return self.range_lines_helper(self.root)\n",
    "\n",
    "  def range_lines_helper(self, root):\n",
    "    if root == None:\n",
    "      return []\n",
    "    cur_lines = [root.min_point, (root.min_point[0], root.max_point[1]), root.max_point, (root.max_point[0], root.min_point[1]), root.min_point]\n",
    "    res = [cur_lines]\n",
    "    for pole in root.nodes:\n",
    "      for node in pole:\n",
    "        res += self.range_lines_helper(node)\n",
    "\n",
    "    return res\n",
    "\n",
    "  def get_leaves(self):\n",
    "    return self.get_leaves_helper(self.root)\n",
    "\n",
    "  def get_leaves_helper(self, root):\n",
    "    if root is None:\n",
    "      return []\n",
    "    if root.is_leaf():\n",
    "      return [root]\n",
    "\n",
    "    res = []\n",
    "    for pole in root.nodes:\n",
    "      for node in pole:\n",
    "        res += self.get_leaves_helper(node)\n",
    "\n",
    "    return res\n",
    "\n",
    "  def get_neighbor(self, node, dir):\n",
    "    \"\"\"\n",
    "    direction - \n",
    "      0: North\n",
    "      1: South\n",
    "      2: West\n",
    "      3: East\n",
    "    \"\"\"\n",
    "    if node == self.root:\n",
    "      return None\n",
    "\n",
    "    if dir < 2:\n",
    "      same_pole = node.parent.nodes[dir]\n",
    "      opposite_pole = node.parent.nodes[1-dir]\n",
    "    else:\n",
    "      same_pole = [node.parent.nodes[0][dir%2], node.parent.nodes[1][dir%2]]\n",
    "      opposite_pole = [node.parent.nodes[0][1-dir%2], node.parent.nodes[1][1-dir%2]]\n",
    "\n",
    "    for i in range(2):\n",
    "      if node == opposite_pole[i]:\n",
    "        return same_pole[i]\n",
    "\n",
    "    m = self.get_neighbor(node.parent, dir)\n",
    "    if m is None or m.is_leaf():\n",
    "      return m\n",
    "\n",
    "\n",
    "    if dir < 2:\n",
    "      m_opposite_pole = m.nodes[1-dir]\n",
    "    else:\n",
    "\n",
    "      m_opposite_pole = [m.nodes[0][1-dir%2], m.nodes[1][1-dir%2]]\n",
    "\n",
    "\n",
    "    if node == same_pole[0]:\n",
    "      return m_opposite_pole[0]\n",
    "\n",
    "    return m_opposite_pole[1]\n"
   ]
  },
  {
   "cell_type": "markdown",
   "metadata": {
    "id": "eI2eMtOcN0cQ"
   },
   "source": [
    "Measuring the time it takes to construct the quad-tree"
   ]
  },
  {
   "cell_type": "code",
   "execution_count": 37,
   "metadata": {
    "colab": {
     "base_uri": "https://localhost:8080/"
    },
    "id": "YdyHPYK-Wy36",
    "outputId": "f0a0572b-b0b8-4319-bb56-8df43b6103dc",
    "tags": []
   },
   "outputs": [
    {
     "name": "stdout",
     "output_type": "stream",
     "text": [
      "it takes 0.48995018005371094 ms to construct the tree\n"
     ]
    }
   ],
   "source": [
    "max_num_nodes = 1\n",
    "start_time = time.time()\n",
    "quadTree = QuadTree(points,max_num_nodes)\n",
    "end_time = time.time()\n",
    "\n",
    "time_in_ms = (end_time - start_time)*1000\n",
    "print(f\"it takes {time_in_ms} ms to construct the tree\")"
   ]
  },
  {
   "cell_type": "markdown",
   "metadata": {
    "id": "AIJPQqyTHYdf"
   },
   "source": [
    "### Visualizing the quad-tree"
   ]
  },
  {
   "cell_type": "code",
   "execution_count": 38,
   "metadata": {
    "colab": {
     "base_uri": "https://localhost:8080/",
     "height": 430
    },
    "id": "vlqUe5taH_rw",
    "outputId": "09479006-b326-4b6a-8d7b-578b3163c0f0",
    "tags": []
   },
   "outputs": [
    {
     "data": {
      "image/png": "[encoded data removed]",
      "text/plain": [
       "<Figure size 640x480 with 1 Axes>"
      ]
     },
     "metadata": {},
     "output_type": "display_data"
    }
   ],
   "source": [
    "lines = quadTree.range_lines()\n",
    "for square in lines:\n",
    "  x_coords, y_coords = zip(*square)\n",
    "\n",
    "  plt.plot(x_coords, y_coords, '-', color='black')\n",
    "xp, yp = zip(*points)\n",
    "plt.plot(xp, yp, marker=\"o\", linestyle=\"None\");"
   ]
  },
  {
   "cell_type": "markdown",
   "metadata": {
    "id": "G2IHjE7IIFAn"
   },
   "source": [
    "Getting the neighbor for a random leaf.\n",
    "Take into consideration that the direction is represented as follows:\n",
    "* North: 0\n",
    "* South: 1\n",
    "* West: 2\n",
    "* East: 3"
   ]
  },
  {
   "cell_type": "code",
   "execution_count": 39,
   "metadata": {
    "id": "B5wmT1nKIXjR",
    "tags": []
   },
   "outputs": [],
   "source": [
    "def are_neighbors(quadTree, node1, node2, dir):\n",
    "\n",
    "  # when there is a neighbour\n",
    "  if node2 is None:\n",
    "    if dir==0:\n",
    "     return node1.max_point[1] == quadTree.root.max_point[1]\n",
    "    elif dir==1:\n",
    "      return node1.min_point[1] == quadTree.root.min_point[1]\n",
    "    elif dir==2:\n",
    "      return node1.min_point[0] == quadTree.root.min_point[0]\n",
    "    return node1.max_point[0] == quadTree.root.max_point[0]\n",
    "\n",
    "  # to check if the found neighbor is the correct one\n",
    "  if dir==0:\n",
    "    return node1.max_point[1] == node2.min_point[1]\n",
    "  elif dir==1:\n",
    "    return node1.min_point[1] == node2.max_point[1]\n",
    "  elif dir==2:\n",
    "    return node1.min_point[0] == node2.max_point[0]\n",
    "  return node1.max_point[0] == node2.min_point[0]\n"
   ]
  },
  {
   "cell_type": "markdown",
   "metadata": {
    "id": "rD31lyT-MyL4"
   },
   "source": [
    "Choosing a random direction and a random leaf for measuring the time it takes to find this neighbor"
   ]
  },
  {
   "cell_type": "code",
   "execution_count": 40,
   "metadata": {
    "colab": {
     "base_uri": "https://localhost:8080/"
    },
    "id": "oQYM6m2GfFwb",
    "outputId": "e5b0d4d2-33eb-4355-ae7a-2891fb0e645b",
    "tags": []
   },
   "outputs": [
    {
     "name": "stdout",
     "output_type": "stream",
     "text": [
      "it takes 0.11587142944335938 ms to find the neighbor\n"
     ]
    }
   ],
   "source": [
    "dir = random.randint(0, 3)\n",
    "leaf_id = random.randint(0, len(quadTree.leaves)-1)\n",
    "leaf = quadTree.leaves[leaf_id]\n",
    "\n",
    "initial_time = time.time()\n",
    "neighbor = quadTree.get_neighbor(leaf, dir)\n",
    "final_time = time.time()\n",
    "time_in_ms = (final_time - initial_time)*1000\n",
    "print(f\"it takes {time_in_ms} ms to find the neighbor\")"
   ]
  },
  {
   "cell_type": "code",
   "execution_count": null,
   "metadata": {},
   "outputs": [],
   "source": []
  }
 ],
 "metadata": {
  "colab": {
   "provenance": []
  },
  "kernelspec": {
   "display_name": "Python 3 (ipykernel)",
   "language": "python",
   "name": "python3"
  },
  "language_info": {
   "codemirror_mode": {
    "name": "ipython",
    "version": 3
   },
   "file_extension": ".py",
   "mimetype": "text/x-python",
   "name": "python",
   "nbconvert_exporter": "python",
   "pygments_lexer": "ipython3",
   "version": "3.11.5"
  }
 },
 "nbformat": 4,
 "nbformat_minor": 4
}
